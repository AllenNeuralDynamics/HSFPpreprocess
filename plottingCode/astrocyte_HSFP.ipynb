{
 "cells": [
  {
   "cell_type": "markdown",
   "metadata": {},
   "source": [
    "### Combine astrocyte HSFP data\n",
    "- 3 session of astrocyte-iAChSnFR behavior + HSFP data\n",
    "- Combine rewarded and unrewarded trials from all sessions"
   ]
  },
  {
   "cell_type": "code",
   "execution_count": 4,
   "metadata": {},
   "outputs": [],
   "source": [
    "import pandas as pd\n",
    "import numpy as np\n",
    "import os\n",
    "import glob\n",
    "import matplotlib.pyplot as plt\n",
    "from scipy.signal import find_peaks\n",
    "import h5py\n",
    "import json"
   ]
  },
  {
   "cell_type": "code",
   "execution_count": 5,
   "metadata": {},
   "outputs": [],
   "source": [
    "reward_473_F1 = []\n",
    "reward_473_F2 = []\n",
    "reward_514_F1 = []\n",
    "reward_514_F2 = []\n",
    "unreward_473_F1 = []\n",
    "unreward_473_F2 = []\n",
    "unreward_514_F1 = []\n",
    "unreward_514_F2 = []\n",
    "\n",
    "# Load each of the seesions\n",
    "f = h5py.File('C:\\AIND\\output_data\\BigTiffs2023-08-14T12_19_41.8326656-07_00\\data_behaviorHSFP.hdf5','r')\n",
    "time = np.array(f['Time'])\n",
    "wavelength = np.array(f['wavelength'])\n",
    "rw_473_F1 = np.array(f['rw_473_F1'])\n",
    "rw_473_F2 = np.array(f['rw_473_F2'])\n",
    "rw_514_F1 = np.array(f['rw_514_F1'])\n",
    "rw_514_F2 = np.array(f['rw_514_F2'])\n",
    "unrw_473_F1 = np.array(f['unrw_473_F1'])\n",
    "unrw_473_F2 = np.array(f['unrw_473_F2'])\n",
    "unrw_514_F1 = np.array(f['unrw_514_F1'])\n",
    "unrw_514_F2 = np.array(f['unrw_514_F2'])\n",
    "f.close()\n",
    "reward_473_F1.append(rw_473_F1)\n",
    "reward_473_F2.append(rw_473_F2)\n",
    "reward_514_F1.append(rw_514_F1)\n",
    "reward_514_F2.append(rw_514_F2)\n",
    "unreward_473_F1.append(unrw_473_F1)\n",
    "unreward_473_F2.append(unrw_473_F2)\n",
    "unreward_514_F1.append(unrw_514_F1)\n",
    "unreward_514_F2.append(unrw_514_F2)\n",
    "\n",
    "f = h5py.File('C:\\AIND\\output_data\\BigTiffs2023-08-15T10_48_31.1975424-07_00\\data_behaviorHSFP.hdf5','r')\n",
    "time = np.array(f['Time'])\n",
    "wavelength = np.array(f['wavelength'])\n",
    "rw_473_F1 = np.array(f['rw_473_F1'])\n",
    "rw_473_F2 = np.array(f['rw_473_F2'])\n",
    "rw_514_F1 = np.array(f['rw_514_F1'])\n",
    "rw_514_F2 = np.array(f['rw_514_F2'])\n",
    "unrw_473_F1 = np.array(f['unrw_473_F1'])\n",
    "unrw_473_F2 = np.array(f['unrw_473_F2'])\n",
    "unrw_514_F1 = np.array(f['unrw_514_F1'])\n",
    "unrw_514_F2 = np.array(f['unrw_514_F2'])\n",
    "f.close()\n",
    "reward_473_F1.append(rw_473_F1)\n",
    "reward_473_F2.append(rw_473_F2)\n",
    "reward_514_F1.append(rw_514_F1)\n",
    "reward_514_F2.append(rw_514_F2)\n",
    "unreward_473_F1.append(unrw_473_F1)\n",
    "unreward_473_F2.append(unrw_473_F2)\n",
    "unreward_514_F1.append(unrw_514_F1)\n",
    "unreward_514_F2.append(unrw_514_F2)\n",
    "\n",
    "f = h5py.File('C:\\AIND\\output_data\\BigTiffs2023-08-16T10_00_41.6919680-07_00\\data_behaviorHSFP.hdf5','r')\n",
    "time = np.array(f['Time'])\n",
    "wavelength = np.array(f['wavelength'])\n",
    "rw_473_F1 = np.array(f['rw_473_F1'])\n",
    "rw_473_F2 = np.array(f['rw_473_F2'])\n",
    "rw_514_F1 = np.array(f['rw_514_F1'])\n",
    "rw_514_F2 = np.array(f['rw_514_F2'])\n",
    "unrw_473_F1 = np.array(f['unrw_473_F1'])\n",
    "unrw_473_F2 = np.array(f['unrw_473_F2'])\n",
    "unrw_514_F1 = np.array(f['unrw_514_F1'])\n",
    "unrw_514_F2 = np.array(f['unrw_514_F2'])\n",
    "f.close()\n",
    "reward_473_F1.append(rw_473_F1)\n",
    "reward_473_F2.append(rw_473_F2)\n",
    "reward_514_F1.append(rw_514_F1)\n",
    "reward_514_F2.append(rw_514_F2)\n",
    "unreward_473_F1.append(unrw_473_F1)\n",
    "unreward_473_F2.append(unrw_473_F2)\n",
    "unreward_514_F1.append(unrw_514_F1)\n",
    "unreward_514_F2.append(unrw_514_F2)\n",
    "\n",
    "# Concatenate the rewarded and unrewarded trials from each session\n",
    "Re_473_F1 = np.concatenate(reward_473_F1)\n",
    "Re_473_F2 = np.concatenate(reward_473_F2)\n",
    "Re_514_F1 = np.concatenate(reward_514_F1)\n",
    "Re_514_F2 = np.concatenate(reward_514_F2)\n",
    "UnRe_473_F1 = np.concatenate(unreward_473_F1)\n",
    "UnRe_473_F2 = np.concatenate(unreward_473_F2)\n",
    "UnRe_514_F1 = np.concatenate(unreward_514_F1)\n",
    "UnRe_514_F2 = np.concatenate(unreward_514_F2)\n"
   ]
  },
  {
   "cell_type": "code",
   "execution_count": 10,
   "metadata": {},
   "outputs": [],
   "source": [
    "# Get 500 trials from rewarded and unrewarded trials\n",
    "\n",
    "# create a random number generator to get 500 numbers without replacement\n",
    "rng = np.random.default_rng()\n",
    "Re_random = rng.choice(Re_473_F1.shape[0], 500, replace=False)\n",
    "UnRe_random = rng.choice(UnRe_473_F1.shape[0], 500, replace=False)\n",
    "Re_473_F1_500 = Re_473_F1[Re_random,:,:]\n",
    "Re_473_F2_500 = Re_473_F2[Re_random,:,:]\n",
    "Re_514_F1_500 = Re_514_F1[Re_random,:,:]\n",
    "Re_514_F2_500 = Re_514_F2[Re_random,:,:]\n",
    "UnRe_473_F1_500 = UnRe_473_F1[UnRe_random,:,:]\n",
    "UnRe_473_F2_500 = UnRe_473_F2[UnRe_random,:,:]\n",
    "UnRe_514_F1_500 = UnRe_514_F1[UnRe_random,:,:]\n",
    "UnRe_514_F2_500 = UnRe_514_F2[UnRe_random,:,:]\n"
   ]
  },
  {
   "cell_type": "code",
   "execution_count": 6,
   "metadata": {},
   "outputs": [
    {
     "name": "stdout",
     "output_type": "stream",
     "text": [
      "530\n"
     ]
    }
   ],
   "source": [
    "print(Re_473_F1.shape[0])"
   ]
  }
 ],
 "metadata": {
  "kernelspec": {
   "display_name": "HSFPpreprocess",
   "language": "python",
   "name": "python3"
  },
  "language_info": {
   "codemirror_mode": {
    "name": "ipython",
    "version": 3
   },
   "file_extension": ".py",
   "mimetype": "text/x-python",
   "name": "python",
   "nbconvert_exporter": "python",
   "pygments_lexer": "ipython3",
   "version": "3.10.11"
  },
  "orig_nbformat": 4
 },
 "nbformat": 4,
 "nbformat_minor": 2
}
