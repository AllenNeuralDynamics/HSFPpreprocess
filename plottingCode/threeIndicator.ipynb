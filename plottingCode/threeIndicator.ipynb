{
 "cells": [
  {
   "cell_type": "markdown",
   "metadata": {},
   "source": [
    "### Combine 3 indicator data and plot for HSFP data\n",
    "- 3 session of astrocyte-iAChSnFR behavior + HSFP data\n",
    "- Combine rewarded and unrewarded trials from all sessions"
   ]
  },
  {
   "cell_type": "code",
   "execution_count": null,
   "metadata": {},
   "outputs": [],
   "source": [
    "import pandas as pd\n",
    "import numpy as np\n",
    "import os\n",
    "import glob\n",
    "from config import load_config\n",
    "paths = load_config(dataset_key='all')\n",
    "import matplotlib.pyplot as plt\n",
    "from scipy.signal import find_peaks\n",
    "import h5py\n",
    "import json"
   ]
  },
  {
   "cell_type": "code",
   "execution_count": null,
   "metadata": {},
   "outputs": [],
   "source": [
    "f = h5py.File('C:\\AIND\\output_data\\BigTiffs2023-08-14T12_19_41.8326656-07_00\\data_behaviorHSFP.hdf5','r')\n",
    "time = np.array(f['Time'])\n",
    "wavelength = np.array(f['wavelength'])"
   ]
  }
 ],
 "metadata": {
  "kernelspec": {
   "display_name": "HSFPpreprocess",
   "language": "python",
   "name": "python3"
  },
  "language_info": {
   "name": "python",
   "version": "3.10.11"
  },
  "orig_nbformat": 4
 },
 "nbformat": 4,
 "nbformat_minor": 2
}
